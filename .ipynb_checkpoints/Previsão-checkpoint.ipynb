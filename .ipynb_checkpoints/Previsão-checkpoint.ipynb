{
 "cells": [
  {
   "cell_type": "markdown",
   "id": "001bb8de-908c-4503-ba52-1d8f98fa6782",
   "metadata": {},
   "source": [
    "# Análise de Jogos da NFL com Regressão Logística\n",
    "\n",
    "Este notebook utiliza a regressão logística para prever o vencedor de jogos da NFL com base em vitórias e derrotas acumuladas dos times. A seguir, apresentamos o passo a passo do código:\n",
    "\n",
    "---\n",
    "\n",
    "## 1. Importação de Bibliotecas\n",
    "\n",
    "Importamos as bibliotecas necessárias para manipulação de dados, divisão de conjuntos, criação do modelo e avaliação de desempenho.\n",
    "\n",
    "## 2. Carregamento do dataset\n",
    "\n",
    "Utilizei o datset \"games.csv\", que contém dados de jogos da NFL de 1999 até os jogos atuais, o dataset é atualizado toda semana e eu atualizo através desse repositório: \"https://github.com/nflverse/nfldata/blob/master/data/games.csv\"\n",
    "\n",
    "## 3. Filtragem dos dados\n",
    "Filtrei apenas os jogos de temporada regular, de 2013 pra frente\n",
    "\n",
    "## 4. Criação de features\n",
    "\n",
    "Vitória e derrotas acumuladas no time de casa e fora\n",
    "\n",
    "## 5. Divisão em treino e teste\n",
    "\n",
    "Utilizei 80% dos dados para treino e 20% para teste\n",
    "\n",
    "## 6. Treinamento do modelo\n",
    "\n",
    "Criei um moelo de regressão logística, que visa predizer o vencedor da partida\n",
    "\n",
    "## 7. Avaliação do modelo\n",
    "\n",
    "Calcula a acurácia do modelo"
   ]
  },
  {
   "cell_type": "code",
   "execution_count": 1,
   "id": "d49f85b0-106d-4287-9e29-f680eb46cf0b",
   "metadata": {
    "scrolled": true
   },
   "outputs": [
    {
     "name": "stdout",
     "output_type": "stream",
     "text": [
      "Acurácia: 84.19%\n"
     ]
    }
   ],
   "source": [
    "import pandas as pd\n",
    "from sklearn.model_selection import train_test_split\n",
    "from sklearn.linear_model import LogisticRegression\n",
    "from sklearn.metrics import accuracy_score\n",
    "\n",
    "# Carregar dataset\n",
    "df = pd.read_csv('games.csv')\n",
    "\n",
    "# Filtrar temporadas a partir de 2013 e jogos da temporada regular\n",
    "df = df[df['season'] >= 2013]\n",
    "df = df[df['game_type'] == 'REG']\n",
    "\n",
    "# Definir o vencedor (1 se o time da casa vencer, 0 se o time visitante vencer)\n",
    "df['winner'] = df['result'].apply(lambda x: 1 if x > 0 else 0)\n",
    "df = df[df['result'] != 0]\n",
    "\n",
    "# Contar vitórias do time da casa\n",
    "df['home_team_wins'] = df.groupby(['home_team', 'season'])['winner'].cumsum()\n",
    "\n",
    "# Contar vitórias do time visitante (inverso das vitórias do time da casa)\n",
    "df['away_team_wins'] = df.groupby(['away_team', 'season'])['winner'].transform(lambda x: (1 - x).cumsum())\n",
    "\n",
    "# Contar derrotas do time da casa (inverso das vitórias do time da casa)\n",
    "df['home_team_losses'] = df.groupby(['home_team', 'season'])['winner'].transform(lambda x: (1 - x).cumsum())\n",
    "\n",
    "# Contar derrotas do time visitante\n",
    "df['away_team_losses'] = df.groupby(['away_team', 'season'])['winner'].cumsum()\n",
    "\n",
    "# Selecionar as colunas de interesse para o modelo\n",
    "parametros = ['home_team_wins', 'away_team_wins', 'home_team_losses', 'away_team_losses']\n",
    "\n",
    "# Dividir em treino e teste\n",
    "df_train = df[df['season'] < 2023]\n",
    "df_test = df[df['season'] >= 2023]\n",
    "\n",
    "X_train = df_train[parametros]\n",
    "y_train = df_train['winner']\n",
    "X_test = df_test[parametros]\n",
    "y_test = df_test['winner']\n",
    "\n",
    "# Criar o modelo de regressão logística\n",
    "modelo = LogisticRegression()\n",
    "modelo.fit(X_train, y_train)\n",
    "\n",
    "# Fazer previsões\n",
    "y_pred = modelo.predict(X_test)\n",
    "\n",
    "# Avaliar a acurácia do modelo\n",
    "acuracia = accuracy_score(y_test, y_pred)\n",
    "print(f'Acurácia: {acuracia * 100:.2f}%')\n"
   ]
  },
  {
   "cell_type": "code",
   "execution_count": 2,
   "id": "04084699-482e-48d3-a5d3-458ac61de79f",
   "metadata": {},
   "outputs": [
    {
     "name": "stdout",
     "output_type": "stream",
     "text": [
      "Acurácia média com cross-validation: 84.38%\n"
     ]
    }
   ],
   "source": [
    "from sklearn.model_selection import cross_val_score\n",
    "scores = cross_val_score(modelo, X_train, y_train, cv=5)  # 5-fold cross-validation\n",
    "print(f'Acurácia média com cross-validation: {scores.mean() * 100:.2f}%')\n"
   ]
  },
  {
   "cell_type": "code",
   "execution_count": 15,
   "id": "84c39410-8f91-4407-9102-f97b6b68f048",
   "metadata": {},
   "outputs": [
    {
     "name": "stdin",
     "output_type": "stream",
     "text": [
      "Digite o número da semana (por exemplo, 1 para semana 1):  1\n"
     ]
    },
    {
     "name": "stdout",
     "output_type": "stream",
     "text": [
      "KC vs BAL, vencedor: KC\n",
      "PHI vs GB, vencedor: PHI\n",
      "ATL vs PIT, vencedor: PIT\n",
      "BUF vs ARI, vencedor: BUF\n",
      "CHI vs TEN, vencedor: CHI\n",
      "CIN vs NE, vencedor: NE\n",
      "IND vs HOU, vencedor: HOU\n",
      "MIA vs JAX, vencedor: MIA\n",
      "NO vs CAR, vencedor: NO\n",
      "NYG vs MIN, vencedor: MIN\n",
      "LAC vs LV, vencedor: LAC\n",
      "SEA vs DEN, vencedor: SEA\n",
      "CLE vs DAL, vencedor: DAL\n",
      "TB vs WAS, vencedor: TB\n",
      "DET vs LA, vencedor: DET\n",
      "SF vs NYJ, vencedor: SF\n"
     ]
    }
   ],
   "source": [
    "# Variável para o número da semana que você deseja visualizar\n",
    "semana = int(input(\"Digite o número da semana (por exemplo, 1 para semana 1): \"))\n",
    "\n",
    "# Filtrar os jogos da temporada de 2024 para a semana desejada\n",
    "df_semana = df_test[(df_test['season'] == 2024) & (df_test['week'] == semana)].copy()\n",
    "\n",
    "# Fazer previsões\n",
    "y_pred_semana = modelo.predict(df_semana[parametros])\n",
    "\n",
    "# Adicionar a coluna de vencedor previsto\n",
    "df_semana['predicted_winner'] = y_pred_semana\n",
    "\n",
    "# Função para exibir a predição com os nomes dos times\n",
    "def display_prediction(row):\n",
    "    if row['predicted_winner'] == 1:\n",
    "        return f\"{row['home_team']} vs {row['away_team']}, vencedor: {row['home_team']}\"\n",
    "    else:\n",
    "        return f\"{row['home_team']} vs {row['away_team']}, vencedor: {row['away_team']}\"\n",
    "\n",
    "# Aplicar a função no DataFrame de predições\n",
    "df_semana['prediction_display'] = df_semana.apply(display_prediction, axis=1)\n",
    "\n",
    "# Exibir as predições para todos os jogos da semana escolhida\n",
    "for pred in df_semana['prediction_display']:\n",
    "    print(pred)\n"
   ]
  },
  {
   "cell_type": "code",
   "execution_count": null,
   "id": "17b41bf1-bdf9-4041-babc-4401eaefe68d",
   "metadata": {},
   "outputs": [],
   "source": [
    "def calcular_lucro(row):\n",
    "    aposta = 100  # Valor fixo da aposta em cada jogo\n",
    "    if row['predicted_winner'] == 1:  # Aposta no time da casa\n",
    "        odds = row['home_moneyline']\n",
    "        if row['winner'] == 1:  # Aposta correta\n",
    "            return aposta * (odds / 100) if odds > 0 else aposta * (100 / abs(odds))\n",
    "        else:  # Aposta errada\n",
    "            return -aposta\n",
    "    else:  # Aposta no time visitante\n",
    "        odds = row['away_moneyline']\n",
    "        if row['winner'] == 0:  # Aposta correta\n",
    "            return aposta * (odds / 100) if odds > 0 else aposta * (100 / abs(odds))\n",
    "        else:  # Aposta errada\n",
    "            return -aposta"
   ]
  },
  {
   "cell_type": "code",
   "execution_count": 16,
   "id": "8b4b5cf4-4d19-4f26-934f-ae1670833355",
   "metadata": {},
   "outputs": [
    {
     "name": "stdin",
     "output_type": "stream",
     "text": [
      "Digite o número da semana (por exemplo, 1 para semana 1):  1\n"
     ]
    },
    {
     "name": "stdout",
     "output_type": "stream",
     "text": [
      "\n",
      "Predições para os jogos da semana:\n",
      "KC vs BAL, vencedor previsto: KC, vencedor real: KC, odds: casa -148.0, fora 124.0\n",
      "PHI vs GB, vencedor previsto: PHI, vencedor real: PHI, odds: casa -130.0, fora 110.0\n",
      "ATL vs PIT, vencedor previsto: PIT, vencedor real: PIT, odds: casa -192.0, fora 160.0\n",
      "BUF vs ARI, vencedor previsto: BUF, vencedor real: BUF, odds: casa -310.0, fora 250.0\n",
      "CHI vs TEN, vencedor previsto: CHI, vencedor real: CHI, odds: casa -198.0, fora 164.0\n",
      "CIN vs NE, vencedor previsto: NE, vencedor real: NE, odds: casa -375.0, fora 295.0\n",
      "IND vs HOU, vencedor previsto: HOU, vencedor real: HOU, odds: casa 130.0, fora -155.0\n",
      "MIA vs JAX, vencedor previsto: MIA, vencedor real: MIA, odds: casa -180.0, fora 150.0\n",
      "NO vs CAR, vencedor previsto: NO, vencedor real: NO, odds: casa -192.0, fora 160.0\n",
      "NYG vs MIN, vencedor previsto: MIN, vencedor real: MIN, odds: casa -105.0, fora -115.0\n",
      "LAC vs LV, vencedor previsto: LAC, vencedor real: LAC, odds: casa -155.0, fora 130.0\n",
      "SEA vs DEN, vencedor previsto: SEA, vencedor real: SEA, odds: casa -278.0, fora 225.0\n",
      "CLE vs DAL, vencedor previsto: DAL, vencedor real: DAL, odds: casa -130.0, fora 110.0\n",
      "TB vs WAS, vencedor previsto: TB, vencedor real: TB, odds: casa -198.0, fora 164.0\n",
      "DET vs LA, vencedor previsto: DET, vencedor real: DET, odds: casa -225.0, fora 185.0\n",
      "SF vs NYJ, vencedor previsto: SF, vencedor real: SF, odds: casa -180.0, fora 150.0\n",
      "\n",
      "Resultados da Semana:\n",
      "Total de jogos: 16\n",
      "Acertos: 16\n",
      "Assertividade: 100.00%\n",
      "Lucro total: $1302.36\n",
      "Porcentagem de lucro: 81.40%\n"
     ]
    }
   ],
   "source": [
    "# Variável para o número da semana que você deseja visualizar\n",
    "semana = int(input(\"Digite o número da semana (por exemplo, 1 para semana 1): \"))\n",
    "\n",
    "# Filtrar os jogos da temporada de 2024 para a semana desejada\n",
    "df_semana = df_test[(df_test['season'] == 2024) & (df_test['week'] == semana)].copy()\n",
    "\n",
    "# Fazer previsões\n",
    "y_pred_semana = modelo.predict(df_semana[parametros])\n",
    "\n",
    "# Adicionar a coluna de vencedor previsto\n",
    "df_semana['predicted_winner'] = y_pred_semana\n",
    "\n",
    "# Função para exibir a predição com os nomes dos times\n",
    "def display_prediction(row):\n",
    "    predicted_team = row['home_team'] if row['predicted_winner'] == 1 else row['away_team']\n",
    "    real_winner_team = (\n",
    "        row['home_team'] if row['winner'] == 1 \n",
    "        else row['away_team'] if row['winner'] == 0 \n",
    "        else \"Ainda não definido\"\n",
    "    )\n",
    "    return (\n",
    "        f\"{row['home_team']} vs {row['away_team']}, \"\n",
    "        f\"vencedor previsto: {predicted_team}, \"\n",
    "        f\"vencedor real: {real_winner_team}, \"\n",
    "        f\"odds: casa {row['home_moneyline']}, fora {row['away_moneyline']}\"\n",
    "    )\n",
    "\n",
    "# Aplicar a função no DataFrame de predições\n",
    "df_semana['prediction_display'] = df_semana.apply(display_prediction, axis=1)\n",
    "\n",
    "# Exibir as predições para todos os jogos da semana escolhida\n",
    "print(\"\\nPredições para os jogos da semana:\")\n",
    "for pred in df_semana['prediction_display']:\n",
    "    print(pred)\n",
    "\n",
    "# Calcular o lucro de cada jogo\n",
    "df_semana['lucro'] = df_semana.apply(calcular_lucro, axis=1)\n",
    "\n",
    "# Calcular métricas da semana\n",
    "acertos = (df_semana['predicted_winner'] == df_semana['winner']).sum()\n",
    "total_jogos = len(df_semana[df_semana['winner'].notna()])  # Ignorar jogos sem resultado\n",
    "assertividade = (acertos / total_jogos * 100) if total_jogos > 0 else 0\n",
    "lucro_total = df_semana['lucro'].sum()\n",
    "porcentagem_lucro = (lucro_total / (total_jogos * 100)) * 100 if total_jogos > 0 else 0\n",
    "\n",
    "# Exibir resultado geral da semana\n",
    "print(\"\\nResultados da Semana:\")\n",
    "print(f\"Total de jogos: {total_jogos}\")\n",
    "print(f\"Acertos: {acertos}\")\n",
    "print(f\"Assertividade: {assertividade:.2f}%\")\n",
    "print(f\"Lucro total: ${lucro_total:.2f}\")\n",
    "print(f\"Porcentagem de lucro: {porcentagem_lucro:.2f}%\")\n"
   ]
  },
  {
   "cell_type": "code",
   "execution_count": null,
   "id": "0c2ec189-e9a9-4bc1-a7ce-6662cd0b729b",
   "metadata": {},
   "outputs": [],
   "source": []
  }
 ],
 "metadata": {
  "kernelspec": {
   "display_name": "Python 3 (ipykernel)",
   "language": "python",
   "name": "python3"
  },
  "language_info": {
   "codemirror_mode": {
    "name": "ipython",
    "version": 3
   },
   "file_extension": ".py",
   "mimetype": "text/x-python",
   "name": "python",
   "nbconvert_exporter": "python",
   "pygments_lexer": "ipython3",
   "version": "3.12.4"
  }
 },
 "nbformat": 4,
 "nbformat_minor": 5
}
