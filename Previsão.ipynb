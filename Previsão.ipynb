{
 "cells": [
  {
   "cell_type": "markdown",
   "id": "001bb8de-908c-4503-ba52-1d8f98fa6782",
   "metadata": {},
   "source": [
    "# Análise de Jogos da NFL com Regressão Logística\n",
    "\n",
    "Este notebook utiliza a regressão logística para prever o vencedor de jogos da NFL com base em vitórias e derrotas acumuladas dos times. A seguir, apresentamos o passo a passo do código:\n",
    "\n",
    "---\n",
    "\n",
    "## 1. Importação de Bibliotecas\n",
    "\n",
    "Importamos as bibliotecas necessárias para manipulação de dados, divisão de conjuntos, criação do modelo e avaliação de desempenho.\n",
    "\n",
    "## 2. Carregamento do dataset\n",
    "\n",
    "Utilizei o datset \"games.csv\", que contém dados de jogos da NFL de 1999 até os jogos atuais, o dataset é atualizado toda semana e eu atualizo através desse repositório: \"https://github.com/nflverse/nfldata/blob/master/data/games.csv\"\n",
    "\n",
    "## 3. Filtragem dos dados\n",
    "Filtrei apenas os jogos de temporada regular, de 2013 pra frente\n",
    "\n",
    "## 4. Criação de features\n",
    "\n",
    "Vitória e derrotas acumuladas no time de casa e fora\n",
    "\n",
    "## 5. Divisão em treino e teste\n",
    "\n",
    "Utilizei 80% dos dados para treino e 20% para teste\n",
    "\n",
    "## 6. Treinamento do modelo\n",
    "\n",
    "Criei um moelo de regressão logística, que visa predizer o vencedor da partida\n",
    "\n",
    "## 7. Avaliação do modelo\n",
    "\n",
    "Calcula a acurácia do modelo"
   ]
  },
  {
   "cell_type": "code",
   "execution_count": 1,
   "id": "d49f85b0-106d-4287-9e29-f680eb46cf0b",
   "metadata": {
    "scrolled": true
   },
   "outputs": [
    {
     "name": "stdout",
     "output_type": "stream",
     "text": [
      "Acurácia: 85.48%\n"
     ]
    }
   ],
   "source": [
    "import pandas as pd\n",
    "from sklearn.model_selection import train_test_split\n",
    "from sklearn.linear_model import LogisticRegression\n",
    "from sklearn.metrics import accuracy_score\n",
    "\n",
    "# Carregar dataset\n",
    "df = pd.read_csv('games.csv')\n",
    "\n",
    "# Filtrar temporadas a partir de 2013 e jogos da temporada regular\n",
    "df = df[df['season'] >= 2013]\n",
    "df = df[df['game_type'] == 'REG']\n",
    "\n",
    "# Definir o vencedor (1 se o time da casa vencer, 0 se o time visitante vencer)\n",
    "df['winner'] = df['result'].apply(lambda x: 1 if x > 0 else 0)\n",
    "df = df[df['result'] != 0]\n",
    "\n",
    "# Contar vitórias do time da casa\n",
    "df['home_team_wins'] = df.groupby(['home_team', 'season'])['winner'].cumsum()\n",
    "\n",
    "# Contar vitórias do time visitante (inverso das vitórias do time da casa)\n",
    "df['away_team_wins'] = df.groupby(['away_team', 'season'])['winner'].transform(lambda x: (1 - x).cumsum())\n",
    "\n",
    "# Contar derrotas do time da casa (inverso das vitórias do time da casa)\n",
    "df['home_team_losses'] = df.groupby(['home_team', 'season'])['winner'].transform(lambda x: (1 - x).cumsum())\n",
    "\n",
    "# Contar derrotas do time visitante\n",
    "df['away_team_losses'] = df.groupby(['away_team', 'season'])['winner'].cumsum()\n",
    "\n",
    "# Selecionar as colunas de interesse para o modelo\n",
    "parametros = ['home_team_wins', 'away_team_wins', 'home_team_losses', 'away_team_losses']\n",
    "\n",
    "# Dividir em treino e teste\n",
    "df_train = df[df['season'] < 2023]\n",
    "df_test = df[df['season'] >= 2023]\n",
    "\n",
    "X_train = df_train[parametros]\n",
    "y_train = df_train['winner']\n",
    "X_test = df_test[parametros]\n",
    "y_test = df_test['winner']\n",
    "\n",
    "# Criar o modelo de regressão logística\n",
    "modelo = LogisticRegression()\n",
    "modelo.fit(X_train, y_train)\n",
    "\n",
    "# Fazer previsões\n",
    "y_pred = modelo.predict(X_test)\n",
    "\n",
    "# Avaliar a acurácia do modelo\n",
    "acuracia = accuracy_score(y_test, y_pred)\n",
    "print(f'Acurácia: {acuracia * 100:.2f}%')\n"
   ]
  },
  {
   "cell_type": "code",
   "execution_count": 2,
   "id": "04084699-482e-48d3-a5d3-458ac61de79f",
   "metadata": {},
   "outputs": [
    {
     "name": "stdout",
     "output_type": "stream",
     "text": [
      "Acurácia média com cross-validation: 84.38%\n"
     ]
    }
   ],
   "source": [
    "from sklearn.model_selection import cross_val_score\n",
    "scores = cross_val_score(modelo, X_train, y_train, cv=5)  # 5-fold cross-validation\n",
    "print(f'Acurácia média com cross-validation: {scores.mean() * 100:.2f}%')\n"
   ]
  },
  {
   "cell_type": "code",
   "execution_count": null,
   "id": "84c39410-8f91-4407-9102-f97b6b68f048",
   "metadata": {},
   "outputs": [],
   "source": [
    "# Variável para o número da semana que você deseja visualizar\n",
    "semana = int(input(\"Digite o número da semana (por exemplo, 1 para semana 1): \"))\n",
    "\n",
    "# Filtrar os jogos da temporada de 2024 para a semana desejada\n",
    "df_semana = df_test[(df_test['season'] == 2024) & (df_test['week'] == semana)].copy()\n",
    "\n",
    "# Fazer previsões\n",
    "y_pred_semana = modelo.predict(df_semana[parametros])\n",
    "\n",
    "# Adicionar a coluna de vencedor previsto\n",
    "df_semana['predicted_winner'] = y_pred_semana\n",
    "\n",
    "# Função para exibir a predição com os nomes dos times\n",
    "def display_prediction(row):\n",
    "    if row['predicted_winner'] == 1:\n",
    "        return f\"{row['home_team']} vs {row['away_team']}, vencedor: {row['home_team']}\"\n",
    "    else:\n",
    "        return f\"{row['home_team']} vs {row['away_team']}, vencedor: {row['away_team']}\"\n",
    "\n",
    "# Aplicar a função no DataFrame de predições\n",
    "df_semana['prediction_display'] = df_semana.apply(display_prediction, axis=1)\n",
    "\n",
    "# Exibir as predições para todos os jogos da semana escolhida\n",
    "for pred in df_semana['prediction_display']:\n",
    "    print(pred)\n"
   ]
  },
  {
   "cell_type": "code",
   "execution_count": null,
   "id": "2450e021-9845-4aac-bbed-01eb4a75539c",
   "metadata": {
    "scrolled": true
   },
   "outputs": [],
   "source": [
    "# Função para calcular lucro com base nas odds e predições\n",
    "def calcular_lucro(row):\n",
    "    aposta = 100  # Valor fixo da aposta em cada jogo\n",
    "    if row['predicted_winner'] == 1:  # Aposta no time da casa\n",
    "        odds = row['home_moneyline']\n",
    "        if row['winner'] == 1:  # Aposta correta\n",
    "            return aposta * (odds / 100) if odds > 0 else aposta * (100 / abs(odds))\n",
    "        else:  # Aposta errada\n",
    "            return -aposta\n",
    "    else:  # Aposta no time visitante\n",
    "        odds = row['away_moneyline']\n",
    "        if row['winner'] == 0:  # Aposta correta\n",
    "            return aposta * (odds / 100) if odds > 0 else aposta * (100 / abs(odds))\n",
    "        else:  # Aposta errada\n",
    "            return -aposta\n",
    "\n",
    "# Adicionar colunas de odds no DataFrame de teste\n",
    "df_test['predicted_winner'] = y_pred\n",
    "df_test['lucro'] = df_test.apply(calcular_lucro, axis=1)\n",
    "\n",
    "# Calcular lucro total e lucro médio por jogo\n",
    "lucro_total = df_test['lucro'].sum()\n",
    "lucro_medio = df_test['lucro'].mean()\n",
    "\n",
    "print(f\"Lucro total: ${lucro_total:.2f}\")\n",
    "print(f\"Lucro médio por jogo: ${lucro_medio:.2f}\")\n"
   ]
  },
  {
   "cell_type": "code",
   "execution_count": null,
   "id": "e4a7ebe8-02f1-40c3-839f-970c3bfeba92",
   "metadata": {},
   "outputs": [],
   "source": []
  }
 ],
 "metadata": {
  "kernelspec": {
   "display_name": "Python 3 (ipykernel)",
   "language": "python",
   "name": "python3"
  },
  "language_info": {
   "codemirror_mode": {
    "name": "ipython",
    "version": 3
   },
   "file_extension": ".py",
   "mimetype": "text/x-python",
   "name": "python",
   "nbconvert_exporter": "python",
   "pygments_lexer": "ipython3",
   "version": "3.12.7"
  }
 },
 "nbformat": 4,
 "nbformat_minor": 5
}
